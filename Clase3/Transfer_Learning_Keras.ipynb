{
  "nbformat": 4,
  "nbformat_minor": 0,
  "metadata": {
    "colab": {
      "name": "Transfer_Learning_Keras.ipynb",
      "provenance": [],
      "collapsed_sections": []
    },
    "kernelspec": {
      "name": "python3",
      "display_name": "Python 3"
    },
    "accelerator": "GPU"
  },
  "cells": [
    {
      "cell_type": "code",
      "metadata": {
        "id": "tHVcFSw8KOod",
        "colab": {
          "base_uri": "https://localhost:8080/"
        },
        "outputId": "0ee9bca4-97a8-4911-a9ef-2ec923fe6411"
      },
      "source": [
        "!wget --no-check-certificate \\\n",
        "  https://storage.googleapis.com/mledu-datasets/cats_and_dogs_filtered.zip \\\n",
        "  -O cats_and_dogs_filtered.zip"
      ],
      "execution_count": null,
      "outputs": [
        {
          "output_type": "stream",
          "text": [
            "--2021-07-24 23:32:23--  https://storage.googleapis.com/mledu-datasets/cats_and_dogs_filtered.zip\n",
            "Resolving storage.googleapis.com (storage.googleapis.com)... 74.125.135.128, 74.125.142.128, 74.125.195.128, ...\n",
            "Connecting to storage.googleapis.com (storage.googleapis.com)|74.125.135.128|:443... connected.\n",
            "HTTP request sent, awaiting response... 200 OK\n",
            "Length: 68606236 (65M) [application/zip]\n",
            "Saving to: ‘cats_and_dogs_filtered.zip’\n",
            "\n",
            "cats_and_dogs_filte 100%[===================>]  65.43M   168MB/s    in 0.4s    \n",
            "\n",
            "2021-07-24 23:32:24 (168 MB/s) - ‘cats_and_dogs_filtered.zip’ saved [68606236/68606236]\n",
            "\n"
          ],
          "name": "stdout"
        }
      ]
    },
    {
      "cell_type": "code",
      "metadata": {
        "id": "rjFXUIjELEPq"
      },
      "source": [
        "! unzip -q cats_and_dogs_filtered.zip"
      ],
      "execution_count": null,
      "outputs": []
    },
    {
      "cell_type": "code",
      "metadata": {
        "id": "H2cxYjbrLIrn"
      },
      "source": [
        "train_dir = \"cats_and_dogs_filtered/train\"\n",
        "validation_dir = \"cats_and_dogs_filtered/validation\""
      ],
      "execution_count": null,
      "outputs": []
    },
    {
      "cell_type": "code",
      "metadata": {
        "id": "_MCKlCux4lxq"
      },
      "source": [
        "from tensorflow.keras import optimizers\n",
        "from tensorflow.keras.preprocessing.image import ImageDataGenerator\n",
        "from tensorflow.keras.applications import VGG16\n",
        "from tensorflow.keras import models\n",
        "from tensorflow.keras import layers\n",
        "import pandas as pd\n",
        "import matplotlib.pyplot as plt\n",
        "from tensorflow.keras.applications import ResNet50"
      ],
      "execution_count": null,
      "outputs": []
    },
    {
      "cell_type": "markdown",
      "metadata": {
        "id": "Tz7727TcRmvx"
      },
      "source": [
        "## Primero como siempre importamos los datos"
      ]
    },
    {
      "cell_type": "code",
      "metadata": {
        "id": "7MmG26GyGsbU",
        "colab": {
          "base_uri": "https://localhost:8080/"
        },
        "outputId": "d8063c19-a168-4800-ca7e-6713cf784f05"
      },
      "source": [
        "\n",
        "train_datagen = ImageDataGenerator(\n",
        "      rescale=1./255,\n",
        "      rotation_range=40,\n",
        "      width_shift_range=0.2,\n",
        "      height_shift_range=0.2,\n",
        "      shear_range=0.2,\n",
        "      zoom_range=0.2,\n",
        "      horizontal_flip=True)\n",
        "\n",
        "test_datagen = ImageDataGenerator(rescale=1./255)\n",
        "\n",
        "train_generator = train_datagen.flow_from_directory(\n",
        "        train_dir,\n",
        "        target_size=(150, 150),\n",
        "        batch_size=20,\n",
        "        class_mode='binary')\n",
        "\n",
        "validation_generator = test_datagen.flow_from_directory(\n",
        "        validation_dir,\n",
        "        target_size=(150, 150),\n",
        "        batch_size=20,\n",
        "        class_mode='binary')"
      ],
      "execution_count": null,
      "outputs": [
        {
          "output_type": "stream",
          "text": [
            "Found 2000 images belonging to 2 classes.\n",
            "Found 1000 images belonging to 2 classes.\n"
          ],
          "name": "stdout"
        }
      ]
    },
    {
      "cell_type": "markdown",
      "metadata": {
        "id": "qFRSq3j9LTMC"
      },
      "source": [
        "## Ahora importamos la red y los pesos de la red VGG16"
      ]
    },
    {
      "cell_type": "code",
      "metadata": {
        "id": "sJLgI4nPG-UI",
        "colab": {
          "base_uri": "https://localhost:8080/"
        },
        "outputId": "28fea964-6b6b-47c6-cdea-842ba183591c"
      },
      "source": [
        "\n",
        "vgg_base = VGG16(weights='imagenet',\n",
        "                  include_top=False,\n",
        "                  input_shape=(150, 150, 3))"
      ],
      "execution_count": null,
      "outputs": [
        {
          "output_type": "stream",
          "text": [
            "Downloading data from https://storage.googleapis.com/tensorflow/keras-applications/vgg16/vgg16_weights_tf_dim_ordering_tf_kernels_notop.h5\n",
            "58892288/58889256 [==============================] - 1s 0us/step\n"
          ],
          "name": "stdout"
        }
      ]
    },
    {
      "cell_type": "code",
      "metadata": {
        "id": "lgGFCAW9HAKu",
        "colab": {
          "base_uri": "https://localhost:8080/"
        },
        "outputId": "f88000a4-fb84-4b87-b3b8-4e23fa4e9b98"
      },
      "source": [
        "vgg_base.summary()"
      ],
      "execution_count": null,
      "outputs": [
        {
          "output_type": "stream",
          "text": [
            "Model: \"vgg16\"\n",
            "_________________________________________________________________\n",
            "Layer (type)                 Output Shape              Param #   \n",
            "=================================================================\n",
            "input_1 (InputLayer)         [(None, 150, 150, 3)]     0         \n",
            "_________________________________________________________________\n",
            "block1_conv1 (Conv2D)        (None, 150, 150, 64)      1792      \n",
            "_________________________________________________________________\n",
            "block1_conv2 (Conv2D)        (None, 150, 150, 64)      36928     \n",
            "_________________________________________________________________\n",
            "block1_pool (MaxPooling2D)   (None, 75, 75, 64)        0         \n",
            "_________________________________________________________________\n",
            "block2_conv1 (Conv2D)        (None, 75, 75, 128)       73856     \n",
            "_________________________________________________________________\n",
            "block2_conv2 (Conv2D)        (None, 75, 75, 128)       147584    \n",
            "_________________________________________________________________\n",
            "block2_pool (MaxPooling2D)   (None, 37, 37, 128)       0         \n",
            "_________________________________________________________________\n",
            "block3_conv1 (Conv2D)        (None, 37, 37, 256)       295168    \n",
            "_________________________________________________________________\n",
            "block3_conv2 (Conv2D)        (None, 37, 37, 256)       590080    \n",
            "_________________________________________________________________\n",
            "block3_conv3 (Conv2D)        (None, 37, 37, 256)       590080    \n",
            "_________________________________________________________________\n",
            "block3_pool (MaxPooling2D)   (None, 18, 18, 256)       0         \n",
            "_________________________________________________________________\n",
            "block4_conv1 (Conv2D)        (None, 18, 18, 512)       1180160   \n",
            "_________________________________________________________________\n",
            "block4_conv2 (Conv2D)        (None, 18, 18, 512)       2359808   \n",
            "_________________________________________________________________\n",
            "block4_conv3 (Conv2D)        (None, 18, 18, 512)       2359808   \n",
            "_________________________________________________________________\n",
            "block4_pool (MaxPooling2D)   (None, 9, 9, 512)         0         \n",
            "_________________________________________________________________\n",
            "block5_conv1 (Conv2D)        (None, 9, 9, 512)         2359808   \n",
            "_________________________________________________________________\n",
            "block5_conv2 (Conv2D)        (None, 9, 9, 512)         2359808   \n",
            "_________________________________________________________________\n",
            "block5_conv3 (Conv2D)        (None, 9, 9, 512)         2359808   \n",
            "_________________________________________________________________\n",
            "block5_pool (MaxPooling2D)   (None, 4, 4, 512)         0         \n",
            "=================================================================\n",
            "Total params: 14,714,688\n",
            "Trainable params: 14,714,688\n",
            "Non-trainable params: 0\n",
            "_________________________________________________________________\n"
          ],
          "name": "stdout"
        }
      ]
    },
    {
      "cell_type": "markdown",
      "metadata": {
        "id": "qb02uF6qQki2"
      },
      "source": [
        "## Setear los parámetros del modelo base a no entrenable"
      ]
    },
    {
      "cell_type": "code",
      "metadata": {
        "id": "u3_w4j7ZQgyz"
      },
      "source": [
        "vgg_base.trainable=False "
      ],
      "execution_count": null,
      "outputs": []
    },
    {
      "cell_type": "markdown",
      "metadata": {
        "id": "rMS_A9FoLyko"
      },
      "source": [
        "### Ahora hay que agregar las últimas capas de la red:"
      ]
    },
    {
      "cell_type": "code",
      "metadata": {
        "id": "AhxiG1TCLiU3"
      },
      "source": [
        "\n",
        "\n",
        "model = models.Sequential()\n",
        "model.add(vgg_base)\n",
        "# agregar el final de la red\n",
        "# una capa flatten\n",
        "# una capa densa de 256 elementos\n",
        "# una capa sigmoidea\n",
        "model.add(layers.Flatten())\n",
        "model.add(layers.Dense(256, activation='relu'))\n",
        "model.add(layers.Dense(1, activation='sigmoid'))"
      ],
      "execution_count": null,
      "outputs": []
    },
    {
      "cell_type": "markdown",
      "metadata": {
        "id": "anYAWZ0aRira"
      },
      "source": [
        "### Entrenamos el modelo"
      ]
    },
    {
      "cell_type": "code",
      "metadata": {
        "id": "0gigvw9yQeKh",
        "colab": {
          "base_uri": "https://localhost:8080/"
        },
        "outputId": "6336bdf5-34dd-4d0d-8a36-4e45d2a434bc"
      },
      "source": [
        "\n",
        "\n",
        "model.compile(loss='binary_crossentropy',\n",
        "              optimizer=optimizers.RMSprop(lr=2e-5),\n",
        "              metrics=['acc'])\n"
      ],
      "execution_count": null,
      "outputs": [
        {
          "output_type": "stream",
          "text": [
            "/usr/local/lib/python3.7/dist-packages/tensorflow/python/keras/optimizer_v2/optimizer_v2.py:375: UserWarning: The `lr` argument is deprecated, use `learning_rate` instead.\n",
            "  \"The `lr` argument is deprecated, use `learning_rate` instead.\")\n"
          ],
          "name": "stderr"
        }
      ]
    },
    {
      "cell_type": "code",
      "metadata": {
        "id": "s35FNxh_RXxM",
        "colab": {
          "base_uri": "https://localhost:8080/"
        },
        "outputId": "97a94464-47fa-4e6e-829f-9927632aa7f3"
      },
      "source": [
        "history = model.fit_generator(\n",
        "      train_generator,\n",
        "      steps_per_epoch=100,\n",
        "      epochs=10,\n",
        "      validation_data=validation_generator,\n",
        "      validation_steps=50)"
      ],
      "execution_count": null,
      "outputs": [
        {
          "output_type": "stream",
          "text": [
            "/usr/local/lib/python3.7/dist-packages/tensorflow/python/keras/engine/training.py:1940: UserWarning: `Model.fit_generator` is deprecated and will be removed in a future version. Please use `Model.fit`, which supports generators.\n",
            "  warnings.warn('`Model.fit_generator` is deprecated and '\n"
          ],
          "name": "stderr"
        },
        {
          "output_type": "stream",
          "text": [
            "Epoch 1/10\n",
            "100/100 [==============================] - 23s 230ms/step - loss: 0.3993 - acc: 0.8240 - val_loss: 0.3309 - val_acc: 0.8540\n",
            "Epoch 2/10\n",
            "100/100 [==============================] - 23s 226ms/step - loss: 0.3841 - acc: 0.8300 - val_loss: 0.3229 - val_acc: 0.8550\n",
            "Epoch 3/10\n",
            "100/100 [==============================] - 23s 226ms/step - loss: 0.3685 - acc: 0.8315 - val_loss: 0.3116 - val_acc: 0.8600\n",
            "Epoch 4/10\n",
            "100/100 [==============================] - 23s 225ms/step - loss: 0.3580 - acc: 0.8450 - val_loss: 0.2849 - val_acc: 0.8740\n",
            "Epoch 5/10\n",
            "100/100 [==============================] - 22s 224ms/step - loss: 0.3497 - acc: 0.8435 - val_loss: 0.2806 - val_acc: 0.8730\n",
            "Epoch 6/10\n",
            "100/100 [==============================] - 22s 223ms/step - loss: 0.3429 - acc: 0.8385 - val_loss: 0.2751 - val_acc: 0.8800\n",
            "Epoch 7/10\n",
            "100/100 [==============================] - 22s 224ms/step - loss: 0.3373 - acc: 0.8595 - val_loss: 0.2753 - val_acc: 0.8780\n",
            "Epoch 8/10\n",
            "100/100 [==============================] - 22s 223ms/step - loss: 0.3214 - acc: 0.8610 - val_loss: 0.2703 - val_acc: 0.8790\n",
            "Epoch 9/10\n",
            "100/100 [==============================] - 22s 223ms/step - loss: 0.3271 - acc: 0.8520 - val_loss: 0.2944 - val_acc: 0.8720\n",
            "Epoch 10/10\n",
            "100/100 [==============================] - 22s 225ms/step - loss: 0.3370 - acc: 0.8500 - val_loss: 0.2950 - val_acc: 0.8710\n"
          ],
          "name": "stdout"
        }
      ]
    },
    {
      "cell_type": "code",
      "metadata": {
        "id": "uvtC0A2NT87L",
        "colab": {
          "base_uri": "https://localhost:8080/",
          "height": 324
        },
        "outputId": "afe2839a-b486-4cf1-f37d-167bb4c66119"
      },
      "source": [
        "\n",
        "\n",
        "\n",
        "pd.DataFrame(history.history).plot(figsize=(8, 5))\n",
        "plt.grid(True)\n",
        "plt.gca().set_ylim(0, 1)\n",
        "plt.show()"
      ],
      "execution_count": null,
      "outputs": [
        {
          "output_type": "display_data",
          "data": {
            "image/png": "[encoded data removed]",
            "text/plain": [
              "<Figure size 576x360 with 1 Axes>"
            ]
          },
          "metadata": {
            "tags": [],
            "needs_background": "light"
          }
        }
      ]
    },
    {
      "cell_type": "markdown",
      "metadata": {
        "id": "nEi0841iT_fw"
      },
      "source": [
        "# TAREA: Hacer lo mismo con ResNet50:"
      ]
    },
    {
      "cell_type": "code",
      "metadata": {
        "id": "kNjMVqPwLRCx"
      },
      "source": [
        "\n",
        "base_resnet = ResNet50(\n",
        "    include_top=False,\n",
        "    weights=\"imagenet\",\n",
        "    input_shape=(150, 150, 3)\n",
        ")\n",
        "\n",
        "### COMPLETAR\n",
        "base_resnet.trainable = False\n",
        "#base_resnet.summary()"
      ],
      "execution_count": null,
      "outputs": []
    },
    {
      "cell_type": "markdown",
      "metadata": {
        "id": "PQhqMGD3Vdlf"
      },
      "source": [
        "Agrego las capas de clasificacion:\n"
      ]
    },
    {
      "cell_type": "code",
      "metadata": {
        "id": "cbEqkug9VhDE"
      },
      "source": [
        "#replicamos la estructura de capas densas utilizada con VGG16\n",
        "\n",
        "model = models.Sequential()\n",
        "model.add(base_resnet)\n",
        "# agregar el final de la red\n",
        "# una capa flatten\n",
        "# una capa densa de 256 elementos\n",
        "# una capa sigmoidea\n",
        "model.add(layers.Flatten())\n",
        "model.add(layers.Dense(256, activation='relu'))\n",
        "model.add(layers.Dense(1, activation='sigmoid'))\n",
        "\n",
        "model.compile(loss='binary_crossentropy',\n",
        "              optimizer=optimizers.RMSprop(learning_rate=2e-5),\n",
        "              metrics=['acc'])"
      ],
      "execution_count": null,
      "outputs": []
    },
    {
      "cell_type": "markdown",
      "metadata": {
        "id": "DEStcnbokr-B"
      },
      "source": [
        "Reconfiguramos los data generators"
      ]
    },
    {
      "cell_type": "code",
      "metadata": {
        "colab": {
          "base_uri": "https://localhost:8080/"
        },
        "id": "HnGpu_jBknw_",
        "outputId": "21c39e12-5eee-436b-a09e-ab99fb629e9a"
      },
      "source": [
        "train_datagen = ImageDataGenerator(\n",
        "      rescale=1.0/255\n",
        "      #rotation_range=40,\n",
        "      #width_shift_range=0.2,\n",
        "      #height_shift_range=0.2,\n",
        "      #shear_range=0.2,\n",
        "      #zoom_range=0.2,\n",
        "      #horizontal_flip=True\n",
        "      )\n",
        "\n",
        "test_datagen = ImageDataGenerator(\n",
        "    rescale=1.0/255\n",
        "    )\n",
        "\n",
        "train_generator = train_datagen.flow_from_directory(\n",
        "        train_dir,\n",
        "        target_size=(150, 150),\n",
        "        batch_size=16,\n",
        "        class_mode='binary')\n",
        "\n",
        "validation_generator = test_datagen.flow_from_directory(\n",
        "        validation_dir,\n",
        "        target_size=(150, 150),\n",
        "        batch_size=16,\n",
        "        class_mode='binary')"
      ],
      "execution_count": null,
      "outputs": [
        {
          "output_type": "stream",
          "text": [
            "Found 2000 images belonging to 2 classes.\n",
            "Found 1000 images belonging to 2 classes.\n"
          ],
          "name": "stdout"
        }
      ]
    },
    {
      "cell_type": "markdown",
      "metadata": {
        "id": "WVrGqz-qh97A"
      },
      "source": [
        "Entrenamos resnet"
      ]
    },
    {
      "cell_type": "code",
      "metadata": {
        "colab": {
          "base_uri": "https://localhost:8080/"
        },
        "id": "TxgLZOZGiAoE",
        "outputId": "bdf56ea0-65e9-4fc9-f7b2-f89d32f8ed62"
      },
      "source": [
        "history = model.fit_generator(\n",
        "      train_generator,\n",
        "      steps_per_epoch=100,\n",
        "      epochs=100,\n",
        "      validation_data=validation_generator,\n",
        "      validation_steps=50)"
      ],
      "execution_count": null,
      "outputs": [
        {
          "output_type": "stream",
          "text": [
            "/usr/local/lib/python3.7/dist-packages/tensorflow/python/keras/engine/training.py:1940: UserWarning: `Model.fit_generator` is deprecated and will be removed in a future version. Please use `Model.fit`, which supports generators.\n",
            "  warnings.warn('`Model.fit_generator` is deprecated and '\n"
          ],
          "name": "stderr"
        },
        {
          "output_type": "stream",
          "text": [
            "Epoch 1/100\n",
            "100/100 [==============================] - 13s 99ms/step - loss: 0.6981 - acc: 0.5425 - val_loss: 0.6708 - val_acc: 0.5838\n",
            "Epoch 2/100\n",
            "100/100 [==============================] - 9s 89ms/step - loss: 0.6706 - acc: 0.5825 - val_loss: 0.6669 - val_acc: 0.5913\n",
            "Epoch 3/100\n",
            "100/100 [==============================] - 9s 87ms/step - loss: 0.6531 - acc: 0.6125 - val_loss: 0.6470 - val_acc: 0.6325\n",
            "Epoch 4/100\n",
            "100/100 [==============================] - 9s 87ms/step - loss: 0.6498 - acc: 0.6212 - val_loss: 0.6512 - val_acc: 0.5987\n",
            "Epoch 5/100\n",
            "100/100 [==============================] - 9s 88ms/step - loss: 0.6438 - acc: 0.6212 - val_loss: 0.6275 - val_acc: 0.6700\n",
            "Epoch 6/100\n",
            "100/100 [==============================] - 9s 87ms/step - loss: 0.6368 - acc: 0.6288 - val_loss: 0.6603 - val_acc: 0.5962\n",
            "Epoch 7/100\n",
            "100/100 [==============================] - 8s 83ms/step - loss: 0.6254 - acc: 0.6594 - val_loss: 0.6297 - val_acc: 0.6325\n",
            "Epoch 8/100\n",
            "100/100 [==============================] - 8s 83ms/step - loss: 0.6196 - acc: 0.6494 - val_loss: 0.6349 - val_acc: 0.6250\n",
            "Epoch 9/100\n",
            "100/100 [==============================] - 8s 84ms/step - loss: 0.6134 - acc: 0.6581 - val_loss: 0.6092 - val_acc: 0.6712\n",
            "Epoch 10/100\n",
            "100/100 [==============================] - 8s 83ms/step - loss: 0.6171 - acc: 0.6631 - val_loss: 0.5938 - val_acc: 0.6988\n",
            "Epoch 11/100\n",
            "100/100 [==============================] - 9s 89ms/step - loss: 0.6151 - acc: 0.6538 - val_loss: 0.6052 - val_acc: 0.6850\n",
            "Epoch 12/100\n",
            "100/100 [==============================] - 9s 89ms/step - loss: 0.5998 - acc: 0.6600 - val_loss: 0.6796 - val_acc: 0.5863\n",
            "Epoch 13/100\n",
            "100/100 [==============================] - 9s 87ms/step - loss: 0.6095 - acc: 0.6625 - val_loss: 0.6390 - val_acc: 0.6037\n",
            "Epoch 14/100\n",
            "100/100 [==============================] - 8s 83ms/step - loss: 0.5962 - acc: 0.6700 - val_loss: 0.5948 - val_acc: 0.6812\n",
            "Epoch 15/100\n",
            "100/100 [==============================] - 8s 83ms/step - loss: 0.5874 - acc: 0.6856 - val_loss: 0.6048 - val_acc: 0.6800\n",
            "Epoch 16/100\n",
            "100/100 [==============================] - 8s 83ms/step - loss: 0.5865 - acc: 0.6844 - val_loss: 0.5937 - val_acc: 0.6850\n",
            "Epoch 17/100\n",
            "100/100 [==============================] - 8s 83ms/step - loss: 0.5889 - acc: 0.6881 - val_loss: 0.5851 - val_acc: 0.7000\n",
            "Epoch 18/100\n",
            "100/100 [==============================] - 9s 88ms/step - loss: 0.5838 - acc: 0.6850 - val_loss: 0.5878 - val_acc: 0.6862\n",
            "Epoch 19/100\n",
            "100/100 [==============================] - 9s 88ms/step - loss: 0.5795 - acc: 0.6900 - val_loss: 0.6362 - val_acc: 0.6225\n",
            "Epoch 20/100\n",
            "100/100 [==============================] - 9s 87ms/step - loss: 0.5753 - acc: 0.6956 - val_loss: 0.6226 - val_acc: 0.6450\n",
            "Epoch 21/100\n",
            "100/100 [==============================] - 8s 83ms/step - loss: 0.5766 - acc: 0.6869 - val_loss: 0.5940 - val_acc: 0.6888\n",
            "Epoch 22/100\n",
            "100/100 [==============================] - 8s 83ms/step - loss: 0.5724 - acc: 0.6994 - val_loss: 0.5822 - val_acc: 0.7088\n",
            "Epoch 23/100\n",
            "100/100 [==============================] - 8s 83ms/step - loss: 0.5683 - acc: 0.7038 - val_loss: 0.5758 - val_acc: 0.7100\n",
            "Epoch 24/100\n",
            "100/100 [==============================] - 8s 83ms/step - loss: 0.5586 - acc: 0.7050 - val_loss: 0.6265 - val_acc: 0.6413\n",
            "Epoch 25/100\n",
            "100/100 [==============================] - 9s 87ms/step - loss: 0.5659 - acc: 0.7094 - val_loss: 0.6090 - val_acc: 0.6637\n",
            "Epoch 26/100\n",
            "100/100 [==============================] - 9s 89ms/step - loss: 0.5643 - acc: 0.6944 - val_loss: 0.6005 - val_acc: 0.6750\n",
            "Epoch 27/100\n",
            "100/100 [==============================] - 9s 88ms/step - loss: 0.5526 - acc: 0.7150 - val_loss: 0.6853 - val_acc: 0.6050\n",
            "Epoch 28/100\n",
            "100/100 [==============================] - 8s 83ms/step - loss: 0.5601 - acc: 0.7169 - val_loss: 0.5753 - val_acc: 0.7025\n",
            "Epoch 29/100\n",
            "100/100 [==============================] - 8s 83ms/step - loss: 0.5546 - acc: 0.7069 - val_loss: 0.5780 - val_acc: 0.6925\n",
            "Epoch 30/100\n",
            "100/100 [==============================] - 8s 83ms/step - loss: 0.5556 - acc: 0.6950 - val_loss: 0.6592 - val_acc: 0.6175\n",
            "Epoch 31/100\n",
            "100/100 [==============================] - 8s 83ms/step - loss: 0.5559 - acc: 0.7156 - val_loss: 0.5772 - val_acc: 0.7000\n",
            "Epoch 32/100\n",
            "100/100 [==============================] - 9s 89ms/step - loss: 0.5547 - acc: 0.7106 - val_loss: 0.7461 - val_acc: 0.5900\n",
            "Epoch 33/100\n",
            "100/100 [==============================] - 9s 89ms/step - loss: 0.5456 - acc: 0.7156 - val_loss: 0.5678 - val_acc: 0.6988\n",
            "Epoch 34/100\n",
            "100/100 [==============================] - 9s 88ms/step - loss: 0.5481 - acc: 0.7256 - val_loss: 0.5715 - val_acc: 0.7013\n",
            "Epoch 35/100\n",
            "100/100 [==============================] - 8s 84ms/step - loss: 0.5420 - acc: 0.7056 - val_loss: 0.5865 - val_acc: 0.6875\n",
            "Epoch 36/100\n",
            "100/100 [==============================] - 8s 83ms/step - loss: 0.5399 - acc: 0.7350 - val_loss: 0.5867 - val_acc: 0.6825\n",
            "Epoch 37/100\n",
            "100/100 [==============================] - 8s 84ms/step - loss: 0.5364 - acc: 0.7188 - val_loss: 0.6004 - val_acc: 0.6650\n",
            "Epoch 38/100\n",
            "100/100 [==============================] - 8s 84ms/step - loss: 0.5316 - acc: 0.7269 - val_loss: 0.5790 - val_acc: 0.6875\n",
            "Epoch 39/100\n",
            "100/100 [==============================] - 9s 89ms/step - loss: 0.5289 - acc: 0.7300 - val_loss: 0.5746 - val_acc: 0.6963\n",
            "Epoch 40/100\n",
            "100/100 [==============================] - 9s 89ms/step - loss: 0.5322 - acc: 0.7231 - val_loss: 0.6152 - val_acc: 0.6612\n",
            "Epoch 41/100\n",
            "100/100 [==============================] - 9s 87ms/step - loss: 0.5224 - acc: 0.7344 - val_loss: 0.6031 - val_acc: 0.6612\n",
            "Epoch 42/100\n",
            "100/100 [==============================] - 9s 87ms/step - loss: 0.5275 - acc: 0.7312 - val_loss: 0.5594 - val_acc: 0.7200\n",
            "Epoch 43/100\n",
            "100/100 [==============================] - 9s 89ms/step - loss: 0.5234 - acc: 0.7312 - val_loss: 0.5966 - val_acc: 0.6913\n",
            "Epoch 44/100\n",
            "100/100 [==============================] - 9s 88ms/step - loss: 0.5298 - acc: 0.7450 - val_loss: 0.5633 - val_acc: 0.7237\n",
            "Epoch 45/100\n",
            "100/100 [==============================] - 8s 83ms/step - loss: 0.5172 - acc: 0.7487 - val_loss: 0.5810 - val_acc: 0.6787\n",
            "Epoch 46/100\n",
            "100/100 [==============================] - 8s 84ms/step - loss: 0.5233 - acc: 0.7369 - val_loss: 0.5672 - val_acc: 0.7150\n",
            "Epoch 47/100\n",
            "100/100 [==============================] - 8s 82ms/step - loss: 0.5219 - acc: 0.7287 - val_loss: 0.5829 - val_acc: 0.6875\n",
            "Epoch 48/100\n",
            "100/100 [==============================] - 8s 83ms/step - loss: 0.5299 - acc: 0.7294 - val_loss: 0.6148 - val_acc: 0.6600\n",
            "Epoch 49/100\n",
            "100/100 [==============================] - 9s 87ms/step - loss: 0.5068 - acc: 0.7450 - val_loss: 0.6183 - val_acc: 0.6600\n",
            "Epoch 50/100\n",
            "100/100 [==============================] - 9s 89ms/step - loss: 0.5100 - acc: 0.7487 - val_loss: 0.5669 - val_acc: 0.7275\n",
            "Epoch 51/100\n",
            "100/100 [==============================] - 9s 89ms/step - loss: 0.5253 - acc: 0.7206 - val_loss: 0.5685 - val_acc: 0.7163\n",
            "Epoch 52/100\n",
            "100/100 [==============================] - 8s 84ms/step - loss: 0.5114 - acc: 0.7487 - val_loss: 0.5605 - val_acc: 0.7113\n",
            "Epoch 53/100\n",
            "100/100 [==============================] - 8s 83ms/step - loss: 0.5148 - acc: 0.7462 - val_loss: 0.5663 - val_acc: 0.7250\n",
            "Epoch 54/100\n",
            "100/100 [==============================] - 8s 83ms/step - loss: 0.5099 - acc: 0.7475 - val_loss: 0.5528 - val_acc: 0.7287\n",
            "Epoch 55/100\n",
            "100/100 [==============================] - 8s 83ms/step - loss: 0.5146 - acc: 0.7444 - val_loss: 0.5705 - val_acc: 0.7163\n",
            "Epoch 56/100\n",
            "100/100 [==============================] - 9s 86ms/step - loss: 0.5019 - acc: 0.7538 - val_loss: 0.6524 - val_acc: 0.6513\n",
            "Epoch 57/100\n",
            "100/100 [==============================] - 9s 89ms/step - loss: 0.5111 - acc: 0.7431 - val_loss: 0.6203 - val_acc: 0.6575\n",
            "Epoch 58/100\n",
            "100/100 [==============================] - 9s 88ms/step - loss: 0.4984 - acc: 0.7550 - val_loss: 0.6226 - val_acc: 0.6687\n",
            "Epoch 59/100\n",
            "100/100 [==============================] - 8s 84ms/step - loss: 0.5000 - acc: 0.7575 - val_loss: 0.5535 - val_acc: 0.7275\n",
            "Epoch 60/100\n",
            "100/100 [==============================] - 8s 83ms/step - loss: 0.5058 - acc: 0.7437 - val_loss: 0.5744 - val_acc: 0.6850\n",
            "Epoch 61/100\n",
            "100/100 [==============================] - 8s 84ms/step - loss: 0.4990 - acc: 0.7569 - val_loss: 0.5719 - val_acc: 0.6975\n",
            "Epoch 62/100\n",
            "100/100 [==============================] - 8s 84ms/step - loss: 0.4933 - acc: 0.7569 - val_loss: 0.6163 - val_acc: 0.6737\n",
            "Epoch 63/100\n",
            "100/100 [==============================] - 8s 83ms/step - loss: 0.5071 - acc: 0.7519 - val_loss: 0.5727 - val_acc: 0.7237\n",
            "Epoch 64/100\n",
            "100/100 [==============================] - 9s 89ms/step - loss: 0.4824 - acc: 0.7594 - val_loss: 0.5780 - val_acc: 0.6825\n",
            "Epoch 65/100\n",
            "100/100 [==============================] - 9s 88ms/step - loss: 0.4935 - acc: 0.7606 - val_loss: 0.5781 - val_acc: 0.6875\n",
            "Epoch 66/100\n",
            "100/100 [==============================] - 9s 86ms/step - loss: 0.4951 - acc: 0.7538 - val_loss: 0.6178 - val_acc: 0.6700\n",
            "Epoch 67/100\n",
            "100/100 [==============================] - 8s 83ms/step - loss: 0.4954 - acc: 0.7469 - val_loss: 0.5613 - val_acc: 0.7188\n",
            "Epoch 68/100\n",
            "100/100 [==============================] - 8s 83ms/step - loss: 0.4975 - acc: 0.7581 - val_loss: 0.5635 - val_acc: 0.7237\n",
            "Epoch 69/100\n",
            "100/100 [==============================] - 8s 83ms/step - loss: 0.4865 - acc: 0.7550 - val_loss: 0.5634 - val_acc: 0.7100\n",
            "Epoch 70/100\n",
            "100/100 [==============================] - 8s 83ms/step - loss: 0.4863 - acc: 0.7525 - val_loss: 0.5510 - val_acc: 0.7125\n",
            "Epoch 71/100\n",
            "100/100 [==============================] - 9s 89ms/step - loss: 0.4931 - acc: 0.7556 - val_loss: 0.6407 - val_acc: 0.6425\n",
            "Epoch 72/100\n",
            "100/100 [==============================] - 9s 89ms/step - loss: 0.4807 - acc: 0.7669 - val_loss: 0.6129 - val_acc: 0.6650\n",
            "Epoch 73/100\n",
            "100/100 [==============================] - 9s 86ms/step - loss: 0.4847 - acc: 0.7581 - val_loss: 0.5883 - val_acc: 0.7000\n",
            "Epoch 74/100\n",
            "100/100 [==============================] - 9s 87ms/step - loss: 0.4805 - acc: 0.7663 - val_loss: 0.5484 - val_acc: 0.7250\n",
            "Epoch 75/100\n",
            "100/100 [==============================] - 9s 88ms/step - loss: 0.4940 - acc: 0.7569 - val_loss: 0.6065 - val_acc: 0.6925\n",
            "Epoch 76/100\n",
            "100/100 [==============================] - 9s 88ms/step - loss: 0.4791 - acc: 0.7675 - val_loss: 0.5761 - val_acc: 0.6950\n",
            "Epoch 77/100\n",
            "100/100 [==============================] - 9s 85ms/step - loss: 0.4932 - acc: 0.7650 - val_loss: 0.5809 - val_acc: 0.6687\n",
            "Epoch 78/100\n",
            "100/100 [==============================] - 8s 84ms/step - loss: 0.4743 - acc: 0.7675 - val_loss: 0.5556 - val_acc: 0.7150\n",
            "Epoch 79/100\n",
            "100/100 [==============================] - 8s 83ms/step - loss: 0.4833 - acc: 0.7550 - val_loss: 0.5596 - val_acc: 0.7138\n",
            "Epoch 80/100\n",
            "100/100 [==============================] - 8s 83ms/step - loss: 0.4834 - acc: 0.7731 - val_loss: 0.6325 - val_acc: 0.6525\n",
            "Epoch 81/100\n",
            "100/100 [==============================] - 9s 86ms/step - loss: 0.4825 - acc: 0.7619 - val_loss: 0.5608 - val_acc: 0.7038\n",
            "Epoch 82/100\n",
            "100/100 [==============================] - 9s 88ms/step - loss: 0.4706 - acc: 0.7837 - val_loss: 0.5981 - val_acc: 0.6750\n",
            "Epoch 83/100\n",
            "100/100 [==============================] - 9s 89ms/step - loss: 0.4731 - acc: 0.7675 - val_loss: 0.5611 - val_acc: 0.7312\n",
            "Epoch 84/100\n",
            "100/100 [==============================] - 8s 83ms/step - loss: 0.4685 - acc: 0.7669 - val_loss: 0.5469 - val_acc: 0.7400\n",
            "Epoch 85/100\n",
            "100/100 [==============================] - 8s 84ms/step - loss: 0.4701 - acc: 0.7725 - val_loss: 0.5808 - val_acc: 0.7088\n",
            "Epoch 86/100\n",
            "100/100 [==============================] - 8s 84ms/step - loss: 0.4762 - acc: 0.7569 - val_loss: 0.5416 - val_acc: 0.7362\n",
            "Epoch 87/100\n",
            "100/100 [==============================] - 8s 83ms/step - loss: 0.4704 - acc: 0.7675 - val_loss: 0.5578 - val_acc: 0.7275\n",
            "Epoch 88/100\n",
            "100/100 [==============================] - 9s 88ms/step - loss: 0.4620 - acc: 0.7856 - val_loss: 0.5535 - val_acc: 0.7387\n",
            "Epoch 89/100\n",
            "100/100 [==============================] - 9s 88ms/step - loss: 0.4600 - acc: 0.7919 - val_loss: 0.5745 - val_acc: 0.7225\n",
            "Epoch 90/100\n",
            "100/100 [==============================] - 9s 89ms/step - loss: 0.4601 - acc: 0.7781 - val_loss: 0.5429 - val_acc: 0.7350\n",
            "Epoch 91/100\n",
            "100/100 [==============================] - 8s 84ms/step - loss: 0.4699 - acc: 0.7894 - val_loss: 0.5749 - val_acc: 0.7250\n",
            "Epoch 92/100\n",
            "100/100 [==============================] - 8s 84ms/step - loss: 0.4690 - acc: 0.7650 - val_loss: 0.7857 - val_acc: 0.5888\n",
            "Epoch 93/100\n",
            "100/100 [==============================] - 8s 84ms/step - loss: 0.4703 - acc: 0.7656 - val_loss: 0.6037 - val_acc: 0.6988\n",
            "Epoch 94/100\n",
            "100/100 [==============================] - 8s 84ms/step - loss: 0.4552 - acc: 0.7875 - val_loss: 0.6293 - val_acc: 0.6750\n",
            "Epoch 95/100\n",
            "100/100 [==============================] - 9s 89ms/step - loss: 0.4674 - acc: 0.7837 - val_loss: 0.5566 - val_acc: 0.7325\n",
            "Epoch 96/100\n",
            "100/100 [==============================] - 9s 89ms/step - loss: 0.4629 - acc: 0.7744 - val_loss: 0.5762 - val_acc: 0.7038\n",
            "Epoch 97/100\n",
            "100/100 [==============================] - 9s 87ms/step - loss: 0.4576 - acc: 0.7831 - val_loss: 0.5400 - val_acc: 0.7375\n",
            "Epoch 98/100\n",
            "100/100 [==============================] - 8s 84ms/step - loss: 0.4572 - acc: 0.7775 - val_loss: 0.6137 - val_acc: 0.6938\n",
            "Epoch 99/100\n",
            "100/100 [==============================] - 8s 84ms/step - loss: 0.4456 - acc: 0.7862 - val_loss: 0.5789 - val_acc: 0.6850\n",
            "Epoch 100/100\n",
            "100/100 [==============================] - 8s 84ms/step - loss: 0.4585 - acc: 0.7850 - val_loss: 0.5652 - val_acc: 0.7337\n"
          ],
          "name": "stdout"
        }
      ]
    },
    {
      "cell_type": "code",
      "metadata": {
        "colab": {
          "base_uri": "https://localhost:8080/",
          "height": 324
        },
        "id": "6Bykft-m_mSk",
        "outputId": "5b2e851f-b1bb-4e04-b09f-719cf7efcfd2"
      },
      "source": [
        "pd.DataFrame(history.history).plot(figsize=(8, 5))\n",
        "plt.grid(True)\n",
        "plt.gca().set_ylim(0, 1)\n",
        "plt.show()"
      ],
      "execution_count": null,
      "outputs": [
        {
          "output_type": "display_data",
          "data": {
            "image/png": "[encoded data removed]",
            "text/plain": [
              "<Figure size 576x360 with 1 Axes>"
            ]
          },
          "metadata": {
            "tags": [],
            "needs_background": "light"
          }
        }
      ]
    }
  ]
}