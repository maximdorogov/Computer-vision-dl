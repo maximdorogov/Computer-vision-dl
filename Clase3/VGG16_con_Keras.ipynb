{
  "nbformat": 4,
  "nbformat_minor": 0,
  "metadata": {
    "kernelspec": {
      "display_name": "Python 3",
      "language": "python",
      "name": "python3"
    },
    "language_info": {
      "codemirror_mode": {
        "name": "ipython",
        "version": 3
      },
      "file_extension": ".py",
      "mimetype": "text/x-python",
      "name": "python",
      "nbconvert_exporter": "python",
      "pygments_lexer": "ipython3",
      "version": "3.7.6"
    },
    "colab": {
      "name": "VGG16_con_Keras.ipynb",
      "provenance": [],
      "collapsed_sections": []
    },
    "accelerator": "GPU"
  },
  "cells": [
    {
      "cell_type": "code",
      "metadata": {
        "id": "ClMhk3rw-aQA",
        "colab": {
          "base_uri": "https://localhost:8080/"
        },
        "outputId": "81ee341e-1724-4823-8c3c-476ce2a18722"
      },
      "source": [
        "!wget --no-check-certificate \\\n",
        "  https://storage.googleapis.com/mledu-datasets/cats_and_dogs_filtered.zip \\\n",
        "  -O cats_and_dogs_filtered.zip"
      ],
      "execution_count": null,
      "outputs": [
        {
          "output_type": "stream",
          "text": [
            "--2021-07-18 20:46:42--  https://storage.googleapis.com/mledu-datasets/cats_and_dogs_filtered.zip\n",
            "Resolving storage.googleapis.com (storage.googleapis.com)... 172.217.15.80, 172.253.62.128, 172.217.9.208, ...\n",
            "Connecting to storage.googleapis.com (storage.googleapis.com)|172.217.15.80|:443... connected.\n",
            "HTTP request sent, awaiting response... 200 OK\n",
            "Length: 68606236 (65M) [application/zip]\n",
            "Saving to: ‘cats_and_dogs_filtered.zip’\n",
            "\n",
            "cats_and_dogs_filte 100%[===================>]  65.43M  97.5MB/s    in 0.7s    \n",
            "\n",
            "2021-07-18 20:46:43 (97.5 MB/s) - ‘cats_and_dogs_filtered.zip’ saved [68606236/68606236]\n",
            "\n"
          ],
          "name": "stdout"
        }
      ]
    },
    {
      "cell_type": "code",
      "metadata": {
        "id": "dsmSGBQe-aQE"
      },
      "source": [
        "! unzip -q cats_and_dogs_filtered.zip"
      ],
      "execution_count": null,
      "outputs": []
    },
    {
      "cell_type": "code",
      "metadata": {
        "id": "0UvArfTv-aQI"
      },
      "source": [
        "import os\n",
        "from tensorflow.keras.models import Sequential\n",
        "from tensorflow.keras.layers import Dense, Conv2D, MaxPool2D , Flatten\n",
        "from tensorflow.keras.preprocessing.image import ImageDataGenerator\n",
        "from tensorflow.keras.optimizers import Adam, SGD\n",
        "from tensorflow.keras.losses import binary_crossentropy, categorical_crossentropy\n",
        "from tensorflow.keras import Input,Model\n",
        "import numpy as np"
      ],
      "execution_count": null,
      "outputs": []
    },
    {
      "cell_type": "code",
      "metadata": {
        "id": "qCxEvt-Y-aQL",
        "colab": {
          "base_uri": "https://localhost:8080/"
        },
        "outputId": "74e5d879-608f-4518-a24a-4f1a17cab10d"
      },
      "source": [
        "train_dir = \"cats_and_dogs_filtered/train\"\n",
        "validation_dir = \"cats_and_dogs_filtered/validation\"\n",
        "BATCH_SIZE = 4\n",
        "trdata = ImageDataGenerator(zoom_range=0.1, shear_range=0.2)\n",
        "traindata = trdata.flow_from_directory(directory=train_dir,target_size=(224,224), shuffle=True)\n",
        "tsdata = ImageDataGenerator(zoom_range=0.1, shear_range=0.2)\n",
        "testdata = tsdata.flow_from_directory(directory=validation_dir, target_size=(224,224), shuffle=True)"
      ],
      "execution_count": null,
      "outputs": [
        {
          "output_type": "stream",
          "text": [
            "Found 2000 images belonging to 2 classes.\n",
            "Found 1000 images belonging to 2 classes.\n"
          ],
          "name": "stdout"
        }
      ]
    },
    {
      "cell_type": "markdown",
      "metadata": {
        "id": "mQhkjjRI-aQR"
      },
      "source": [
        "### Reescribir la red utilizando el método funcional y definiendo una función de ayuda."
      ]
    },
    {
      "cell_type": "code",
      "metadata": {
        "id": "hlGI9L4m-aQS",
        "colab": {
          "base_uri": "https://localhost:8080/"
        },
        "outputId": "9bfd3e60-e4e2-43a8-d105-997df4c5ee18"
      },
      "source": [
        "## inputs = Input(shape=(224,224,3)), etc.\n",
        "def create_block(n_filters, n_layers, inputs):\n",
        "    '''\n",
        "    Entradas:\n",
        "     n_filters: numero de filtros del bloque\n",
        "     n_layers: número de capas del bloque\n",
        "     inputs: tensor de entrada\n",
        "    Retorna:\n",
        "     tensor de salida con las capas aplicadas\n",
        "    '''\n",
        "    # usar un bucle for para agregar n_layers capas convolucionales\n",
        "    # luego, agregar la capa MaxPool2D y retornarla\n",
        "    for i in range(n_layers):\n",
        "      inputs = Conv2D(filters=n_filters,kernel_size=(3,3),padding=\"same\", activation=\"relu\")(inputs)\n",
        "    # agregar capa max pool\n",
        "    inputs = MaxPool2D(pool_size=(2,2), strides=(2,2))(inputs)\n",
        "\n",
        "    return inputs # retornar el tensor\n",
        "    \n",
        "# reemplazar los bloques usando la función create_block\n",
        "inputs = Input(shape=(224,224,3))\n",
        "x = create_block(64,2,inputs)\n",
        "x = create_block(128,2,x)\n",
        "x = create_block(256,3,x)\n",
        "x = create_block(512,3,x)\n",
        "x = create_block(512,3,x)\n",
        "x = Flatten()(x)\n",
        "x = Dense( 4096, activation='relu' )(x)\n",
        "x = Dense( 4096, activation='relu' )(x)\n",
        "x = Dense(2, activation='softmax')(x)\n",
        "\n",
        "vgg16_functional = Model(inputs, x, name = 'custom_vgg16')\n",
        "\n",
        "opt = Adam(lr=0.00001)\n",
        "vgg16_functional.compile(optimizer=opt, loss='categorical_crossentropy', metrics=['accuracy'])\n",
        "\n",
        "vgg16_functional.summary()"
      ],
      "execution_count": null,
      "outputs": [
        {
          "output_type": "stream",
          "text": [
            "Model: \"custom_vgg16\"\n",
            "_________________________________________________________________\n",
            "Layer (type)                 Output Shape              Param #   \n",
            "=================================================================\n",
            "input_12 (InputLayer)        [(None, 224, 224, 3)]     0         \n",
            "_________________________________________________________________\n",
            "conv2d_143 (Conv2D)          (None, 224, 224, 64)      1792      \n",
            "_________________________________________________________________\n",
            "conv2d_144 (Conv2D)          (None, 224, 224, 64)      36928     \n",
            "_________________________________________________________________\n",
            "max_pooling2d_55 (MaxPooling (None, 112, 112, 64)      0         \n",
            "_________________________________________________________________\n",
            "conv2d_145 (Conv2D)          (None, 112, 112, 128)     73856     \n",
            "_________________________________________________________________\n",
            "conv2d_146 (Conv2D)          (None, 112, 112, 128)     147584    \n",
            "_________________________________________________________________\n",
            "max_pooling2d_56 (MaxPooling (None, 56, 56, 128)       0         \n",
            "_________________________________________________________________\n",
            "conv2d_147 (Conv2D)          (None, 56, 56, 256)       295168    \n",
            "_________________________________________________________________\n",
            "conv2d_148 (Conv2D)          (None, 56, 56, 256)       590080    \n",
            "_________________________________________________________________\n",
            "conv2d_149 (Conv2D)          (None, 56, 56, 256)       590080    \n",
            "_________________________________________________________________\n",
            "max_pooling2d_57 (MaxPooling (None, 28, 28, 256)       0         \n",
            "_________________________________________________________________\n",
            "conv2d_150 (Conv2D)          (None, 28, 28, 512)       1180160   \n",
            "_________________________________________________________________\n",
            "conv2d_151 (Conv2D)          (None, 28, 28, 512)       2359808   \n",
            "_________________________________________________________________\n",
            "conv2d_152 (Conv2D)          (None, 28, 28, 512)       2359808   \n",
            "_________________________________________________________________\n",
            "max_pooling2d_58 (MaxPooling (None, 14, 14, 512)       0         \n",
            "_________________________________________________________________\n",
            "conv2d_153 (Conv2D)          (None, 14, 14, 512)       2359808   \n",
            "_________________________________________________________________\n",
            "conv2d_154 (Conv2D)          (None, 14, 14, 512)       2359808   \n",
            "_________________________________________________________________\n",
            "conv2d_155 (Conv2D)          (None, 14, 14, 512)       2359808   \n",
            "_________________________________________________________________\n",
            "max_pooling2d_59 (MaxPooling (None, 7, 7, 512)         0         \n",
            "_________________________________________________________________\n",
            "flatten_11 (Flatten)         (None, 25088)             0         \n",
            "_________________________________________________________________\n",
            "dense_33 (Dense)             (None, 4096)              102764544 \n",
            "_________________________________________________________________\n",
            "dense_34 (Dense)             (None, 4096)              16781312  \n",
            "_________________________________________________________________\n",
            "dense_35 (Dense)             (None, 2)                 8194      \n",
            "=================================================================\n",
            "Total params: 134,268,738\n",
            "Trainable params: 134,268,738\n",
            "Non-trainable params: 0\n",
            "_________________________________________________________________\n"
          ],
          "name": "stdout"
        },
        {
          "output_type": "stream",
          "text": [
            "/usr/local/lib/python3.7/dist-packages/tensorflow/python/keras/optimizer_v2/optimizer_v2.py:375: UserWarning: The `lr` argument is deprecated, use `learning_rate` instead.\n",
            "  \"The `lr` argument is deprecated, use `learning_rate` instead.\")\n"
          ],
          "name": "stderr"
        }
      ]
    },
    {
      "cell_type": "markdown",
      "metadata": {
        "id": "-RK4nLvipzf1"
      },
      "source": [
        "Mismo modelo creado como Secuential"
      ]
    },
    {
      "cell_type": "code",
      "metadata": {
        "id": "FG1qYstepya6"
      },
      "source": [
        "model = Sequential()\n",
        "model.add(Conv2D(input_shape=(224,224,3),filters=64,kernel_size=(3,3),padding=\"same\", activation=\"relu\"))\n",
        "model.add(Conv2D(filters=64,kernel_size=(3,3),padding=\"same\", activation=\"relu\"))\n",
        "model.add(MaxPool2D(pool_size=(2,2),strides=(2,2)))\n",
        "model.add(Conv2D(filters=128, kernel_size=(3,3), padding=\"same\", activation=\"relu\"))\n",
        "model.add(Conv2D(filters=128, kernel_size=(3,3), padding=\"same\", activation=\"relu\"))\n",
        "model.add(MaxPool2D(pool_size=(2,2),strides=(2,2)))\n",
        "model.add(Conv2D(filters=256, kernel_size=(3,3), padding=\"same\", activation=\"relu\"))\n",
        "model.add(Conv2D(filters=256, kernel_size=(3,3), padding=\"same\", activation=\"relu\"))\n",
        "model.add(Conv2D(filters=256, kernel_size=(3,3), padding=\"same\", activation=\"relu\"))\n",
        "model.add(MaxPool2D(pool_size=(2,2),strides=(2,2)))\n",
        "model.add(Conv2D(filters=512, kernel_size=(3,3), padding=\"same\", activation=\"relu\"))\n",
        "model.add(Conv2D(filters=512, kernel_size=(3,3), padding=\"same\", activation=\"relu\"))\n",
        "model.add(Conv2D(filters=512, kernel_size=(3,3), padding=\"same\", activation=\"relu\"))\n",
        "model.add(MaxPool2D(pool_size=(2,2),strides=(2,2)))\n",
        "model.add(Conv2D(filters=512, kernel_size=(3,3), padding=\"same\", activation=\"relu\"))\n",
        "model.add(Conv2D(filters=512, kernel_size=(3,3), padding=\"same\", activation=\"relu\"))\n",
        "model.add(Conv2D(filters=512, kernel_size=(3,3), padding=\"same\", activation=\"relu\"))\n",
        "model.add(MaxPool2D(pool_size=(2,2),strides=(2,2)))\n",
        "model.add(Flatten())\n",
        "model.add(Dense(units=4096,activation=\"relu\"))\n",
        "model.add(Dense(units=4096,activation=\"relu\"))\n",
        "model.add(Dense(units=2, activation=\"softmax\"))\n",
        "\n",
        "opt = Adam(lr=0.001)\n",
        "model.compile(optimizer=opt, loss=categorical_crossentropy, metrics=['accuracy'])\n",
        "model.summary()"
      ],
      "execution_count": null,
      "outputs": []
    },
    {
      "cell_type": "code",
      "metadata": {
        "id": "JpVz7JEJ-aQU"
      },
      "source": [
        "from tensorflow.keras.callbacks import ModelCheckpoint, EarlyStopping\n",
        "checkpoint = ModelCheckpoint(\"vgg16_1.h5\", monitor='accuracy', verbose=1, save_best_only=True, \n",
        "                             save_weights_only=False, mode='auto', save_freq=1000)\n",
        "early = EarlyStopping(monitor='accuracy', min_delta=0, patience=20, verbose=1, mode='auto')\n"
      ],
      "execution_count": null,
      "outputs": []
    },
    {
      "cell_type": "code",
      "metadata": {
        "colab": {
          "base_uri": "https://localhost:8080/"
        },
        "id": "GRLT0cAlvfxu",
        "outputId": "f0e3fcc2-d269-457d-fc48-6988850d56f0"
      },
      "source": [
        "hist = vgg16_functional.fit_generator(\n",
        "    epochs = 15, \n",
        "    #steps_per_epoch = 50, \n",
        "    generator=traindata, \n",
        "    validation_data = testdata, \n",
        "    validation_steps = 5,\n",
        "    callbacks=[checkpoint, early])"
      ],
      "execution_count": null,
      "outputs": [
        {
          "output_type": "stream",
          "text": [
            "/usr/local/lib/python3.7/dist-packages/tensorflow/python/keras/engine/training.py:1940: UserWarning: `Model.fit_generator` is deprecated and will be removed in a future version. Please use `Model.fit`, which supports generators.\n",
            "  warnings.warn('`Model.fit_generator` is deprecated and '\n"
          ],
          "name": "stderr"
        },
        {
          "output_type": "stream",
          "text": [
            "Epoch 1/15\n",
            "63/63 [==============================] - 48s 749ms/step - loss: 0.6940 - accuracy: 0.5440 - val_loss: 0.6720 - val_accuracy: 0.5760\n",
            "Epoch 2/15\n",
            "63/63 [==============================] - 47s 744ms/step - loss: 0.6499 - accuracy: 0.6175 - val_loss: 0.6125 - val_accuracy: 0.6650\n",
            "Epoch 3/15\n",
            "63/63 [==============================] - 48s 755ms/step - loss: 0.6297 - accuracy: 0.6430 - val_loss: 0.6328 - val_accuracy: 0.6660\n",
            "Epoch 4/15\n",
            "63/63 [==============================] - 48s 759ms/step - loss: 0.5644 - accuracy: 0.7135 - val_loss: 0.6369 - val_accuracy: 0.6700\n",
            "Epoch 5/15\n",
            "63/63 [==============================] - 48s 755ms/step - loss: 0.5380 - accuracy: 0.7220 - val_loss: 0.5745 - val_accuracy: 0.6920\n",
            "Epoch 6/15\n",
            "63/63 [==============================] - 48s 760ms/step - loss: 0.4952 - accuracy: 0.7530 - val_loss: 0.5876 - val_accuracy: 0.6900\n",
            "Epoch 7/15\n",
            "63/63 [==============================] - 47s 747ms/step - loss: 0.4581 - accuracy: 0.7825 - val_loss: 0.5618 - val_accuracy: 0.7160\n",
            "Epoch 8/15\n",
            "63/63 [==============================] - 48s 767ms/step - loss: 0.4292 - accuracy: 0.7945 - val_loss: 0.5623 - val_accuracy: 0.7210\n",
            "Epoch 9/15\n",
            "63/63 [==============================] - 48s 754ms/step - loss: 0.3761 - accuracy: 0.8295 - val_loss: 0.5749 - val_accuracy: 0.7230\n",
            "Epoch 10/15\n",
            "63/63 [==============================] - 48s 769ms/step - loss: 0.3487 - accuracy: 0.8515 - val_loss: 0.5897 - val_accuracy: 0.7100\n",
            "Epoch 11/15\n",
            "54/63 [========================>.....] - ETA: 4s - loss: 0.3193 - accuracy: 0.8668\n",
            "Epoch 00011: accuracy did not improve from 0.99107\n",
            "63/63 [==============================] - 48s 762ms/step - loss: 0.3196 - accuracy: 0.8650 - val_loss: 0.6731 - val_accuracy: 0.7000\n",
            "Epoch 12/15\n",
            "63/63 [==============================] - 47s 749ms/step - loss: 0.2568 - accuracy: 0.8885 - val_loss: 0.5906 - val_accuracy: 0.7390\n",
            "Epoch 13/15\n",
            "63/63 [==============================] - 47s 749ms/step - loss: 0.2096 - accuracy: 0.9175 - val_loss: 0.6537 - val_accuracy: 0.7220\n",
            "Epoch 14/15\n",
            "63/63 [==============================] - 48s 764ms/step - loss: 0.1580 - accuracy: 0.9410 - val_loss: 0.6752 - val_accuracy: 0.7250\n",
            "Epoch 15/15\n",
            "63/63 [==============================] - 49s 775ms/step - loss: 0.1148 - accuracy: 0.9590 - val_loss: 0.8112 - val_accuracy: 0.7300\n"
          ],
          "name": "stdout"
        }
      ]
    },
    {
      "cell_type": "code",
      "metadata": {
        "id": "kniVmEoL-aQb",
        "colab": {
          "base_uri": "https://localhost:8080/",
          "height": 283
        },
        "outputId": "979c09ec-cd6a-4229-fc9e-ea5279a6d503"
      },
      "source": [
        "import matplotlib.pyplot as plt\n",
        "plt.plot(hist.history[\"accuracy\"])\n",
        "plt.plot(hist.history['val_accuracy'])\n",
        "plt.plot(hist.history['loss'])\n",
        "plt.plot(hist.history['val_loss'])\n",
        "#plt.title(\"Accuracy del modelo\")\n",
        "plt.ylabel(\"Accuracy\")\n",
        "plt.xlabel(\"Epoch\")\n",
        "plt.legend([\"Accuracy\",\"Validation Accuracy\",\"loss\",\"Validation Loss\"])\n",
        "plt.show()"
      ],
      "execution_count": null,
      "outputs": [
        {
          "output_type": "display_data",
          "data": {
            "image/png": "[encoded data removed]",
            "text/plain": [
              "<Figure size 432x288 with 1 Axes>"
            ]
          },
          "metadata": {
            "tags": [],
            "needs_background": "light"
          }
        }
      ]
    },
    {
      "cell_type": "markdown",
      "metadata": {
        "id": "YnXbIuOi1t_p"
      },
      "source": [
        "Evaluacion del modelo:"
      ]
    },
    {
      "cell_type": "code",
      "metadata": {
        "id": "rwwPVVr7CN7S"
      },
      "source": [
        "from tensorflow.keras.preprocessing import image\n",
        "# bajar una imagen de ejemplo de internet\n",
        "img = image.load_img(\"ejemplo.jpeg\",target_size=(224,224))\n",
        "img = np.asarray(img)\n",
        "plt.imshow(img)\n",
        "img = np.expand_dims(img, axis=0)\n",
        "from keras.models import load_model\n",
        "saved_model = load_model(\"vgg16_1.h5\")\n",
        "output = saved_model.predict(img)\n",
        "if output[0][0] > output[0][1]:\n",
        "    print(\"cat\")\n",
        "else:\n",
        "    print('dog')"
      ],
      "execution_count": null,
      "outputs": []
    }
  ]
}